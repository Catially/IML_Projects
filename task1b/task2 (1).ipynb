{
 "cells": [
  {
   "cell_type": "code",
   "execution_count": 26,
   "metadata": {},
   "outputs": [],
   "source": [
    "import pandas as pd\n",
    "import csv\n",
    "import numpy as np\n",
    "from sklearn.model_selection import train_test_split\n",
    "from sklearn.model_selection import RepeatedKFold"
   ]
  },
  {
   "cell_type": "code",
   "execution_count": 35,
   "metadata": {},
   "outputs": [],
   "source": [
    "data = pd.read_csv(\"train.csv\")\n",
    "X = data.to_numpy()\n",
    "index = X[:,0]\n",
    "Y = X[:,1]\n",
    "X = X[:,2:7]\n",
    "X_qua = np.square(X)\n",
    "X_exp = np.exp(X)\n",
    "X_cos = np.cos(X)\n",
    "X_cons = np.zeros((X.shape[0],1))+1"
   ]
  },
  {
   "cell_type": "code",
   "execution_count": 58,
   "metadata": {},
   "outputs": [],
   "source": [
    "X = np.concatenate((X,X_qua,X_exp,X_cos,X_cons),axis =1)\n"
   ]
  },
  {
   "cell_type": "code",
   "execution_count": 177,
   "metadata": {},
   "outputs": [
    {
     "name": "stdout",
     "output_type": "stream",
     "text": [
      "[[-1.46624455]\n [ 1.14916938]\n [ 1.10030561]\n [ 1.48690137]\n [ 2.59834496]\n [ 1.13042397]\n [-0.5424077 ]\n [ 2.62996133]\n [-0.48728433]\n [-1.52466888]\n [-0.07717259]\n [-1.16220077]\n [ 1.0949543 ]\n [-1.68175956]\n [-3.47171381]\n [-1.6742197 ]\n [-1.54623399]\n [ 0.88584044]\n [-0.0567528 ]\n [-1.38189039]\n [ 4.0401814 ]\n [ 1.03383371]\n [ 0.91796316]\n [ 0.53405656]\n [-2.17672445]\n [ 1.24345427]\n [ 2.89608972]\n [-0.4548772 ]\n [ 0.9673131 ]\n [ 0.22797971]\n [ 2.09858148]\n [-2.62541729]\n [ 2.59456591]\n [-0.47129211]\n [-0.48765743]\n [ 2.29774295]\n [-2.43154774]\n [-1.42746744]\n [-3.94730549]\n [ 2.38312749]\n [-2.26791303]\n [-0.62640099]\n [-0.11187598]\n [ 0.21499158]\n [-0.36071693]\n [ 1.31637402]\n [-0.11489141]\n [ 0.1651915 ]\n [ 1.57634649]\n [ 2.31080298]\n [-0.20916276]\n [-2.58213925]\n [-3.4795022 ]\n [-0.06292219]\n [-1.68680169]\n [ 1.67811852]\n [ 1.22670208]\n [ 1.71915299]\n [ 0.71652442]\n [ 3.18572968]\n [-0.53222253]\n [ 1.83001154]\n [ 1.1927174 ]\n [ 1.36403937]\n [-3.09247094]\n [-3.59904544]\n [ 1.28464532]\n [ 0.42318699]\n [-0.78878097]\n [ 1.93129257]]\n0.21567604191424103\n"
     ]
    }
   ],
   "source": [
    "X_train, X_test, y_train, y_test = train_test_split(X, Y, test_size=0.1, random_state=0)\n",
    "w = np.ones((21,1))\n",
    "for i in range(63):\n",
    "    idx = np.arange(i*10,i*10+10)\n",
    "    x = X_train[idx,:]\n",
    "    y = y_train[idx].reshape(-1,1)\n",
    "    err = (x@w-y)\n",
    "    #print(x.shape,err.shape)\n",
    "    dif = x.transpose()@err\n",
    "    w = w - dif*0.01/(i+2) #+np.random.uniform(-0.1,0.1,(21,1))\n",
    "y_pred = X_test@w\n",
    "y_test = y_test.reshape(-1,1)\n",
    "print(y_pred-y_test)\n",
    "print (np.linalg.norm(y_pred-y_test)/70)"
   ]
  },
  {
   "cell_type": "code",
   "execution_count": 179,
   "metadata": {},
   "outputs": [],
   "source": [
    "with open(\"res1.csv\",\"w\") as csvfile:\n",
    "    writer = csv.writer(csvfile)\n",
    "    for wi in w:\n",
    "        writer.writerow(wi)"
   ]
  }
 ],
 "metadata": {
  "language_info": {
   "codemirror_mode": {
    "name": "ipython",
    "version": 3
   },
   "file_extension": ".py",
   "mimetype": "text/x-python",
   "name": "python",
   "nbconvert_exporter": "python",
   "pygments_lexer": "ipython3",
   "version": "3.8.5-final"
  },
  "orig_nbformat": 2,
  "kernelspec": {
   "name": "python38564bit54ffc6b056264bc9a0155188c2992534",
   "display_name": "Python 3.8.5 64-bit",
   "language": "python"
  }
 },
 "nbformat": 4,
 "nbformat_minor": 2
}